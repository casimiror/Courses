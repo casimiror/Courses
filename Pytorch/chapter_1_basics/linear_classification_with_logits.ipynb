{
 "cells": [
  {
   "cell_type": "code",
   "execution_count": 1,
   "id": "88930fe1",
   "metadata": {},
   "outputs": [],
   "source": [
    "import torch\n",
    "import torch.nn as nn\n",
    "import numpy as np\n",
    "import matplotlib.pyplot as plot"
   ]
  },
  {
   "cell_type": "code",
   "execution_count": 2,
   "id": "b0d24b3e",
   "metadata": {},
   "outputs": [],
   "source": [
    "from sklearn.datasets import load_breast_cancer"
   ]
  },
  {
   "cell_type": "code",
   "execution_count": 3,
   "id": "d0d4061a",
   "metadata": {},
   "outputs": [],
   "source": [
    "data = load_breast_cancer() # Cargar el dataset"
   ]
  },
  {
   "cell_type": "code",
   "execution_count": 4,
   "id": "2118ed67",
   "metadata": {},
   "outputs": [
    {
     "data": {
      "text/plain": [
       "dict_keys(['data', 'target', 'frame', 'target_names', 'DESCR', 'feature_names', 'filename', 'data_module'])"
      ]
     },
     "execution_count": 4,
     "metadata": {},
     "output_type": "execute_result"
    }
   ],
   "source": [
    "data.keys()"
   ]
  },
  {
   "cell_type": "code",
   "execution_count": 5,
   "id": "c32d46aa",
   "metadata": {},
   "outputs": [
    {
     "data": {
      "text/plain": [
       "(569, 30)"
      ]
     },
     "execution_count": 5,
     "metadata": {},
     "output_type": "execute_result"
    }
   ],
   "source": [
    "data.data.shape"
   ]
  },
  {
   "cell_type": "code",
   "execution_count": 6,
   "id": "74a63b27",
   "metadata": {},
   "outputs": [
    {
     "data": {
      "text/plain": [
       "array([0, 0, 0, 0, 0, 0, 0, 0, 0, 0, 0, 0, 0, 0, 0, 0, 0, 0, 0, 1, 1, 1,\n",
       "       0, 0, 0, 0, 0, 0, 0, 0, 0, 0, 0, 0, 0, 0, 0, 1, 0, 0, 0, 0, 0, 0,\n",
       "       0, 0, 1, 0, 1, 1, 1, 1, 1, 0, 0, 1, 0, 0, 1, 1, 1, 1, 0, 1, 0, 0,\n",
       "       1, 1, 1, 1, 0, 1, 0, 0, 1, 0, 1, 0, 0, 1, 1, 1, 0, 0, 1, 0, 0, 0,\n",
       "       1, 1, 1, 0, 1, 1, 0, 0, 1, 1, 1, 0, 0, 1, 1, 1, 1, 0, 1, 1, 0, 1,\n",
       "       1, 1, 1, 1, 1, 1, 1, 0, 0, 0, 1, 0, 0, 1, 1, 1, 0, 0, 1, 0, 1, 0,\n",
       "       0, 1, 0, 0, 1, 1, 0, 1, 1, 0, 1, 1, 1, 1, 0, 1, 1, 1, 1, 1, 1, 1,\n",
       "       1, 1, 0, 1, 1, 1, 1, 0, 0, 1, 0, 1, 1, 0, 0, 1, 1, 0, 0, 1, 1, 1,\n",
       "       1, 0, 1, 1, 0, 0, 0, 1, 0, 1, 0, 1, 1, 1, 0, 1, 1, 0, 0, 1, 0, 0,\n",
       "       0, 0, 1, 0, 0, 0, 1, 0, 1, 0, 1, 1, 0, 1, 0, 0, 0, 0, 1, 1, 0, 0,\n",
       "       1, 1, 1, 0, 1, 1, 1, 1, 1, 0, 0, 1, 1, 0, 1, 1, 0, 0, 1, 0, 1, 1,\n",
       "       1, 1, 0, 1, 1, 1, 1, 1, 0, 1, 0, 0, 0, 0, 0, 0, 0, 0, 0, 0, 0, 0,\n",
       "       0, 0, 1, 1, 1, 1, 1, 1, 0, 1, 0, 1, 1, 0, 1, 1, 0, 1, 0, 0, 1, 1,\n",
       "       1, 1, 1, 1, 1, 1, 1, 1, 1, 1, 1, 0, 1, 1, 0, 1, 0, 1, 1, 1, 1, 1,\n",
       "       1, 1, 1, 1, 1, 1, 1, 1, 1, 0, 1, 1, 1, 0, 1, 0, 1, 1, 1, 1, 0, 0,\n",
       "       0, 1, 1, 1, 1, 0, 1, 0, 1, 0, 1, 1, 1, 0, 1, 1, 1, 1, 1, 1, 1, 0,\n",
       "       0, 0, 1, 1, 1, 1, 1, 1, 1, 1, 1, 1, 1, 0, 0, 1, 0, 0, 0, 1, 0, 0,\n",
       "       1, 1, 1, 1, 1, 0, 1, 1, 1, 1, 1, 0, 1, 1, 1, 0, 1, 1, 0, 0, 1, 1,\n",
       "       1, 1, 1, 1, 0, 1, 1, 1, 1, 1, 1, 1, 0, 1, 1, 1, 1, 1, 0, 1, 1, 0,\n",
       "       1, 1, 1, 1, 1, 1, 1, 1, 1, 1, 1, 1, 0, 1, 0, 0, 1, 0, 1, 1, 1, 1,\n",
       "       1, 0, 1, 1, 0, 1, 0, 1, 1, 0, 1, 0, 1, 1, 1, 1, 1, 1, 1, 1, 0, 0,\n",
       "       1, 1, 1, 1, 1, 1, 0, 1, 1, 1, 1, 1, 1, 1, 1, 1, 1, 0, 1, 1, 1, 1,\n",
       "       1, 1, 1, 0, 1, 0, 1, 1, 0, 1, 1, 1, 1, 1, 0, 0, 1, 0, 1, 0, 1, 1,\n",
       "       1, 1, 1, 0, 1, 1, 0, 1, 0, 1, 0, 0, 1, 1, 1, 0, 1, 1, 1, 1, 1, 1,\n",
       "       1, 1, 1, 1, 1, 0, 1, 0, 0, 1, 1, 1, 1, 1, 1, 1, 1, 1, 1, 1, 1, 1,\n",
       "       1, 1, 1, 1, 1, 1, 1, 1, 1, 1, 1, 1, 0, 0, 0, 0, 0, 0, 1])"
      ]
     },
     "execution_count": 6,
     "metadata": {},
     "output_type": "execute_result"
    }
   ],
   "source": [
    "data.target"
   ]
  },
  {
   "cell_type": "code",
   "execution_count": 7,
   "id": "c8ecfe01",
   "metadata": {},
   "outputs": [
    {
     "data": {
      "text/plain": [
       "array(['malignant', 'benign'], dtype='<U9')"
      ]
     },
     "execution_count": 7,
     "metadata": {},
     "output_type": "execute_result"
    }
   ],
   "source": [
    "data.target_names"
   ]
  },
  {
   "cell_type": "code",
   "execution_count": 8,
   "id": "0613e597",
   "metadata": {},
   "outputs": [],
   "source": [
    "X, Y = data.data, data.target #Obtener los inputs y el target"
   ]
  },
  {
   "cell_type": "code",
   "execution_count": 9,
   "id": "e5e5afb2",
   "metadata": {},
   "outputs": [],
   "source": [
    "from sklearn.model_selection import train_test_split"
   ]
  },
  {
   "cell_type": "code",
   "execution_count": 10,
   "id": "d5faf6a4",
   "metadata": {},
   "outputs": [],
   "source": [
    "X_train, X_test, y_train, y_test = train_test_split(X, Y, test_size=0.33)"
   ]
  },
  {
   "cell_type": "code",
   "execution_count": 11,
   "id": "792d39f5",
   "metadata": {},
   "outputs": [],
   "source": [
    "N, D = X_train.shape "
   ]
  },
  {
   "cell_type": "code",
   "execution_count": 12,
   "id": "5430e87d",
   "metadata": {},
   "outputs": [
    {
     "data": {
      "text/plain": [
       "(381, 30)"
      ]
     },
     "execution_count": 12,
     "metadata": {},
     "output_type": "execute_result"
    }
   ],
   "source": [
    "N, D"
   ]
  },
  {
   "cell_type": "code",
   "execution_count": 13,
   "id": "aa93f4f4",
   "metadata": {},
   "outputs": [],
   "source": [
    "from sklearn.preprocessing import StandardScaler"
   ]
  },
  {
   "cell_type": "code",
   "execution_count": 14,
   "id": "08e7b719",
   "metadata": {},
   "outputs": [],
   "source": [
    "scaler = StandardScaler()"
   ]
  },
  {
   "cell_type": "code",
   "execution_count": 15,
   "id": "07ba11b0",
   "metadata": {},
   "outputs": [
    {
     "data": {
      "text/plain": [
       "array([[-0.16608308, -0.54567648, -0.2297505 , ..., -0.66043396,\n",
       "        -0.24358907, -0.47482448],\n",
       "       [ 0.18864652,  1.15261626,  0.15458451, ..., -0.66671881,\n",
       "        -0.58616737, -0.65771116],\n",
       "       [ 0.02000458, -0.77868128, -0.04794186, ..., -0.58900128,\n",
       "        -0.26861762, -0.66424282],\n",
       "       ...,\n",
       "       [-0.76505273,  0.48963352, -0.77940454, ..., -0.46253784,\n",
       "        -0.10593203,  0.20555751],\n",
       "       [-0.71271558, -0.11329643, -0.74304281, ..., -0.7632909 ,\n",
       "         0.64023167, -0.77201533],\n",
       "       [-0.62839461, -0.43998358, -0.66144032, ..., -1.07140183,\n",
       "         0.47441751, -1.0223959 ]], shape=(381, 30))"
      ]
     },
     "execution_count": 15,
     "metadata": {},
     "output_type": "execute_result"
    }
   ],
   "source": [
    "X_train = scaler.fit_transform(X_train)\n",
    "X_test = scaler.transform(X_test)\n",
    "X_train"
   ]
  },
  {
   "cell_type": "code",
   "execution_count": 16,
   "id": "b9342166",
   "metadata": {},
   "outputs": [],
   "source": [
    "model = nn.Linear(D,1) # Remove the logits so the Loss function will do the operation\n",
    "\n"
   ]
  },
  {
   "cell_type": "code",
   "execution_count": 17,
   "id": "391f3607",
   "metadata": {},
   "outputs": [],
   "source": [
    "criterion = nn.BCEWithLogitsLoss()\n",
    "optimizer = torch.optim.Adam(model.parameters())"
   ]
  },
  {
   "cell_type": "code",
   "execution_count": 18,
   "id": "19e51bf4",
   "metadata": {},
   "outputs": [],
   "source": [
    "X_train = torch.from_numpy(X_train.astype(np.float32))\n",
    "y_train = torch.from_numpy(y_train.astype(np.float32).reshape(-1, 1))\n",
    "X_test = torch.from_numpy(X_test.astype(np.float32))\n",
    "y_test = torch.from_numpy(y_test.astype(np.float32).reshape(-1, 1))"
   ]
  },
  {
   "cell_type": "code",
   "execution_count": 19,
   "id": "5b5eeb9e",
   "metadata": {},
   "outputs": [],
   "source": [
    "n_epochs = 1000\n",
    "seed = 42\n",
    "\n",
    "# Set seed for PyTorch\n",
    "torch.manual_seed(seed)\n",
    "torch.backends.cudnn.deterministic = True\n",
    "torch.backends.cudnn.benchmark = False"
   ]
  },
  {
   "cell_type": "code",
   "execution_count": 20,
   "id": "b8b2efd7",
   "metadata": {},
   "outputs": [],
   "source": [
    "train_losses = np.zeros(n_epochs)\n",
    "test_losses = np.zeros(n_epochs)\n",
    "\n"
   ]
  },
  {
   "cell_type": "code",
   "execution_count": 21,
   "id": "40f4ec85",
   "metadata": {},
   "outputs": [
    {
     "name": "stdout",
     "output_type": "stream",
     "text": [
      "Epoch: 0/1000, Train loss: 0.7849, Test loss 0.8004\n",
      "Epoch: 50/1000, Train loss: 0.5066, Test loss 0.5222\n",
      "Epoch: 100/1000, Train loss: 0.3746, Test loss 0.3906\n",
      "Epoch: 150/1000, Train loss: 0.3020, Test loss 0.3184\n",
      "Epoch: 200/1000, Train loss: 0.2560, Test loss 0.2721\n",
      "Epoch: 250/1000, Train loss: 0.2243, Test loss 0.2393\n",
      "Epoch: 300/1000, Train loss: 0.2010, Test loss 0.2148\n",
      "Epoch: 350/1000, Train loss: 0.1831, Test loss 0.1958\n",
      "Epoch: 400/1000, Train loss: 0.1690, Test loss 0.1806\n",
      "Epoch: 450/1000, Train loss: 0.1575, Test loss 0.1683\n",
      "Epoch: 500/1000, Train loss: 0.1480, Test loss 0.1580\n",
      "Epoch: 550/1000, Train loss: 0.1401, Test loss 0.1493\n",
      "Epoch: 600/1000, Train loss: 0.1333, Test loss 0.1418\n",
      "Epoch: 650/1000, Train loss: 0.1274, Test loss 0.1353\n",
      "Epoch: 700/1000, Train loss: 0.1223, Test loss 0.1296\n",
      "Epoch: 750/1000, Train loss: 0.1178, Test loss 0.1245\n",
      "Epoch: 800/1000, Train loss: 0.1138, Test loss 0.1200\n",
      "Epoch: 850/1000, Train loss: 0.1102, Test loss 0.1159\n",
      "Epoch: 900/1000, Train loss: 0.1070, Test loss 0.1122\n",
      "Epoch: 950/1000, Train loss: 0.1041, Test loss 0.1088\n"
     ]
    }
   ],
   "source": [
    "for it in range(n_epochs):\n",
    "    optimizer.zero_grad()\n",
    "    \n",
    "    outputs = model(X_train)\n",
    "    loss = criterion(outputs, y_train)\n",
    "\n",
    "    loss.backward()\n",
    "    optimizer.step()\n",
    "\n",
    "    outputs_test = model(X_test) \n",
    "    loss_test =  criterion(outputs_test, y_test)\n",
    "\n",
    "    train_losses[it] = loss.item()\n",
    "    test_losses[it] = loss_test.item()\n",
    "\n",
    "    if it % 50 == 0:\n",
    "        print(f\"Epoch: {it}/{n_epochs}, Train loss: {loss.item():.4f}, Test loss {loss_test.item():.4f}\")"
   ]
  },
  {
   "cell_type": "code",
   "execution_count": 22,
   "id": "f38434d4",
   "metadata": {},
   "outputs": [
    {
     "data": {
      "text/plain": [
       "[]"
      ]
     },
     "execution_count": 22,
     "metadata": {},
     "output_type": "execute_result"
    },
    {
     "data": {
      "image/png": "[encoded data removed]",
      "text/plain": [
       "<Figure size 640x480 with 1 Axes>"
      ]
     },
     "metadata": {},
     "output_type": "display_data"
    }
   ],
   "source": [
    "plot.plot(train_losses, label='Train Loss')\n",
    "plot.plot(test_losses, label='Test Loss')\n",
    "plot.legend()\n",
    "plot.plot()"
   ]
  },
  {
   "cell_type": "code",
   "execution_count": 26,
   "id": "3ec7470e",
   "metadata": {},
   "outputs": [
    {
     "name": "stdout",
     "output_type": "stream",
     "text": [
      "Train acc:  0.9764, Test acc: 0.9787\n"
     ]
    }
   ],
   "source": [
    "with torch.no_grad():\n",
    "    p_train = model(X_train)\n",
    "    p_train = p_train.numpy() > 0\n",
    "    train_acc = np.mean(y_train.numpy() == p_train)\n",
    "\n",
    "    p_test = model(X_test)\n",
    "    p_test = p_test.numpy() > 0\n",
    "    test_acc = np.mean(y_test.numpy() == p_test)\n",
    "\n",
    "print(f\"Train acc: {train_acc: .4f}, Test acc: {test_acc:.4f}\")\n",
    "\n",
    "    "
   ]
  },
  {
   "cell_type": "code",
   "execution_count": 55,
   "id": "bf3a81e2",
   "metadata": {},
   "outputs": [],
   "source": [
    "torch.save(model.state_dict(), 'linear_classifier.pt')"
   ]
  },
  {
   "cell_type": "code",
   "execution_count": null,
   "id": "de46cc26",
   "metadata": {},
   "outputs": [
    {
     "data": {
      "text/plain": [
       "<All keys matched successfully>"
      ]
     },
     "execution_count": 56,
     "metadata": {},
     "output_type": "execute_result"
    }
   ],
   "source": [
    "prod_model = nn.Sequential(\n",
    "    nn.Linear(D,1),\n",
    "    nn.Sigmoid()\n",
    ")\n",
    "\n",
    "prod_model.load_state_dict(torch.load('linear_classifier.pt'))"
   ]
  },
  {
   "cell_type": "code",
   "execution_count": null,
   "id": "e9b6879d",
   "metadata": {},
   "outputs": [],
   "source": []
  }
 ],
 "metadata": {
  "kernelspec": {
   "display_name": ".venv",
   "language": "python",
   "name": "python3"
  },
  "language_info": {
   "codemirror_mode": {
    "name": "ipython",
    "version": 3
   },
   "file_extension": ".py",
   "mimetype": "text/x-python",
   "name": "python",
   "nbconvert_exporter": "python",
   "pygments_lexer": "ipython3",
   "version": "3.11.11"
  }
 },
 "nbformat": 4,
 "nbformat_minor": 5
}

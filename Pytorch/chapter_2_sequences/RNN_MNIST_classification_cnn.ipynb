{
  "nbformat": 4,
  "nbformat_minor": 0,
  "metadata": {
    "colab": {
      "provenance": [],
      "gpuType": "T4"
    },
    "kernelspec": {
      "name": "python3",
      "display_name": "Python 3"
    },
    "language_info": {
      "name": "python"
    },
    "accelerator": "GPU"
  },
  "cells": [
    {
      "cell_type": "code",
      "execution_count": 1,
      "metadata": {
        "id": "BKhFVGnJrUXC"
      },
      "outputs": [],
      "source": [
        "import torch\n",
        "import torch.nn as nn\n",
        "import torchvision\n",
        "import numpy as np\n",
        "import matplotlib.pyplot as plot\n",
        "import torch.nn.functional as F"
      ]
    },
    {
      "cell_type": "code",
      "source": [
        "from datetime import datetime\n",
        "import torchvision.transforms as transforms"
      ],
      "metadata": {
        "id": "29XRgHN-rkBp"
      },
      "execution_count": 2,
      "outputs": []
    },
    {
      "cell_type": "code",
      "source": [
        "transformer_train = torchvision.transforms.Compose([\n",
        "  # transforms.ColorJitter(\n",
        "  #    brightness=0.2, contrast=0.2, saturation=0.2, hue=0.2\n",
        "  # ),\n",
        "  # transforms.RandomCrop(32, padding=4),\n",
        "  # transforms.RandomHorizontalFlip(p=0.5),\n",
        "  # transforms.RandomRotation(degrees=15),\n",
        "  # transforms.RandomAffine(0, translate=(0.1, 0.1)),\n",
        "  # transforms.RandomPerspective(),\n",
        "  transforms.ToTensor()\n",
        "  ]\n",
        ")"
      ],
      "metadata": {
        "id": "CMrz6QSdx5LC"
      },
      "execution_count": 3,
      "outputs": []
    },
    {
      "cell_type": "code",
      "source": [
        "train_dataset = torchvision.datasets.MNIST(\n",
        "    root='.',\n",
        "    train=True,\n",
        "    transform=transformer_train,\n",
        "    download=True\n",
        ")\n",
        "\n",
        "test_data = torchvision.datasets.MNIST(\n",
        "    root='.',\n",
        "    train=False,\n",
        "    transform=transforms.ToTensor(),\n",
        "    download=True\n",
        ")"
      ],
      "metadata": {
        "colab": {
          "base_uri": "https://localhost:8080/"
        },
        "id": "iBqSKcXFr9cY",
        "outputId": "4200c5f7-36aa-49e1-b378-a4b71af3d09c"
      },
      "execution_count": 4,
      "outputs": [
        {
          "output_type": "stream",
          "name": "stderr",
          "text": [
            "100%|██████████| 9.91M/9.91M [00:00<00:00, 18.4MB/s]\n",
            "100%|██████████| 28.9k/28.9k [00:00<00:00, 488kB/s]\n",
            "100%|██████████| 1.65M/1.65M [00:00<00:00, 4.53MB/s]\n",
            "100%|██████████| 4.54k/4.54k [00:00<00:00, 7.32MB/s]\n"
          ]
        }
      ]
    },
    {
      "cell_type": "code",
      "source": [
        "K = len(set(train_dataset.targets))"
      ],
      "metadata": {
        "id": "h5EG1eCktGS7"
      },
      "execution_count": 5,
      "outputs": []
    },
    {
      "cell_type": "code",
      "source": [
        "K\n",
        "device = torch.device(\"cuda:0\" if torch.cuda.is_available() else \"cpu\")\n",
        "print(device)\n"
      ],
      "metadata": {
        "colab": {
          "base_uri": "https://localhost:8080/"
        },
        "id": "ilgEZ4TNtY7I",
        "outputId": "11e4a7ae-e828-4ad4-b766-ced91c9fccad"
      },
      "execution_count": 8,
      "outputs": [
        {
          "output_type": "stream",
          "name": "stdout",
          "text": [
            "cuda:0\n"
          ]
        }
      ]
    },
    {
      "cell_type": "code",
      "source": [
        "batch_size = 128\n",
        "\n",
        "train_loader = torch.utils.data.DataLoader(\n",
        "    dataset=train_dataset,\n",
        "    shuffle=True,\n",
        "    batch_size=batch_size\n",
        ")\n",
        "\n",
        "test_loader = torch.utils.data.DataLoader(\n",
        "    dataset=test_data,\n",
        "    batch_size=batch_size\n",
        ")"
      ],
      "metadata": {
        "id": "F5-k8fkvtZVg"
      },
      "execution_count": 6,
      "outputs": []
    },
    {
      "cell_type": "code",
      "source": [
        "class RNN(nn.Module):\n",
        "  def __init__(self, n_inputs, m_hidden, l_layers, k_outputs):\n",
        "    super().__init__()\n",
        "    self.D = n_inputs\n",
        "    self.M = m_hidden\n",
        "    self.L = l_layers\n",
        "    self.K = k_outputs\n",
        "\n",
        "\n",
        "    self.rnn = nn.LSTM(\n",
        "        input_size=n_inputs,\n",
        "        hidden_size=self.M,\n",
        "        num_layers=self.L,\n",
        "        batch_first=True\n",
        "    )\n",
        "    self.fc = nn.Linear(in_features=self.M, out_features=self.K)\n",
        "\n",
        "  def forward(self, X):\n",
        "    h0 = torch.zeros(self.L, X.size(0), self.M).to(device)\n",
        "    c0 = torch.zeros(self.L, X.size(0), self.M).to(device)\n",
        "    out, _ = self.rnn(X, (h0, c0))\n",
        "    out = self.fc(out[:,-1, :])\n",
        "    return out\n"
      ],
      "metadata": {
        "id": "2TqnQ1HsuLDB"
      },
      "execution_count": 18,
      "outputs": []
    },
    {
      "cell_type": "code",
      "source": [
        "model = RNN(28, 128, 2, 10)\n",
        "model.to(device)"
      ],
      "metadata": {
        "colab": {
          "base_uri": "https://localhost:8080/"
        },
        "id": "jUcLWvQex1On",
        "outputId": "d71bbf34-3712-441c-cb3b-a7a6ebc273fb"
      },
      "execution_count": 27,
      "outputs": [
        {
          "output_type": "execute_result",
          "data": {
            "text/plain": [
              "RNN(\n",
              "  (rnn): LSTM(28, 128, num_layers=2, batch_first=True)\n",
              "  (fc): Linear(in_features=128, out_features=10, bias=True)\n",
              ")"
            ]
          },
          "metadata": {},
          "execution_count": 27
        }
      ]
    },
    {
      "cell_type": "code",
      "source": [
        "\n",
        "def batch_gd(model: nn.Module, criterion: nn.CrossEntropyLoss, optimizer: torch.optim.Adam, train_loader, test_loader, epochs):\n",
        "  train_losses = np.zeros(epochs)\n",
        "  test_losses = np.zeros(epochs)\n",
        "\n",
        "  for it in range(epochs):\n",
        "    model.train()\n",
        "    t_0 = datetime.now()\n",
        "    train_loss = []\n",
        "    for inputs, targets in train_loader:\n",
        "      inputs = inputs.to(device).view(-1, 28, 28)\n",
        "      targets = targets.to(device)\n",
        "\n",
        "      optimizer.zero_grad()\n",
        "\n",
        "      outputs = model(inputs)\n",
        "      loss = criterion(outputs, targets)\n",
        "\n",
        "      loss.backward()\n",
        "      optimizer.step()\n",
        "\n",
        "      train_loss.append(loss.item())\n",
        "\n",
        "    train_loss = np.mean(train_loss)\n",
        "\n",
        "    dt = datetime.now() - t_0\n",
        "\n",
        "    model.eval()\n",
        "    test_loss = []\n",
        "    for inputs, targets in test_loader:\n",
        "      inputs = inputs.to(device).view(-1, 28, 28)\n",
        "      targets = targets.to(device)\n",
        "\n",
        "\n",
        "      outputs = model(inputs)\n",
        "      loss = criterion(outputs, targets)\n",
        "\n",
        "      test_loss.append(loss.item())\n",
        "\n",
        "    test_loss = np.mean(test_loss)\n",
        "\n",
        "    train_losses[it] = train_loss\n",
        "    test_losses[it] = test_loss\n",
        "\n",
        "    print(f\"Epoch: {it}/{epochs}, Train loss: {train_loss:.4f}, Test loss {test_loss:.4f}\")\n",
        "    print(f\"Train time {dt}\")\n",
        "\n",
        "  return train_losses, test_losses\n"
      ],
      "metadata": {
        "id": "4RItFNU1xV63"
      },
      "execution_count": 25,
      "outputs": []
    },
    {
      "cell_type": "code",
      "source": [
        "criterion = nn.CrossEntropyLoss()\n",
        "optimizer = torch.optim.Adam(model.parameters())"
      ],
      "metadata": {
        "id": "_-u_BxnYyN4L"
      },
      "execution_count": 28,
      "outputs": []
    },
    {
      "cell_type": "markdown",
      "source": [],
      "metadata": {
        "id": "gxKGU4-5N8IB"
      }
    },
    {
      "cell_type": "code",
      "source": [],
      "metadata": {
        "id": "iHKz0H5ozMHV"
      },
      "execution_count": null,
      "outputs": []
    },
    {
      "cell_type": "code",
      "source": [
        "epochs = 10\n",
        "train_losses, test_losses = batch_gd(model, criterion, optimizer, train_loader, test_loader, epochs)"
      ],
      "metadata": {
        "colab": {
          "base_uri": "https://localhost:8080/"
        },
        "id": "F0VCHGJdydtO",
        "outputId": "f8135757-15d2-4a20-af91-da1218a78abc"
      },
      "execution_count": 29,
      "outputs": [
        {
          "output_type": "stream",
          "name": "stdout",
          "text": [
            "Epoch: 0/10, Train loss: 0.5613, Test loss 0.1634\n",
            "Train time 0:00:09.222104\n",
            "Epoch: 1/10, Train loss: 0.1301, Test loss 0.0849\n",
            "Train time 0:00:08.879472\n",
            "Epoch: 2/10, Train loss: 0.0837, Test loss 0.0775\n",
            "Train time 0:00:08.708693\n",
            "Epoch: 3/10, Train loss: 0.0615, Test loss 0.0680\n",
            "Train time 0:00:09.132822\n",
            "Epoch: 4/10, Train loss: 0.0503, Test loss 0.0557\n",
            "Train time 0:00:09.168588\n",
            "Epoch: 5/10, Train loss: 0.0410, Test loss 0.0497\n",
            "Train time 0:00:09.177148\n",
            "Epoch: 6/10, Train loss: 0.0359, Test loss 0.0854\n",
            "Train time 0:00:09.714732\n",
            "Epoch: 7/10, Train loss: 0.0336, Test loss 0.0545\n",
            "Train time 0:00:09.235772\n",
            "Epoch: 8/10, Train loss: 0.0274, Test loss 0.0430\n",
            "Train time 0:00:08.889272\n",
            "Epoch: 9/10, Train loss: 0.0236, Test loss 0.0374\n",
            "Train time 0:00:08.705765\n"
          ]
        }
      ]
    },
    {
      "cell_type": "code",
      "source": [
        "plot.plot(train_losses, label=\"train\")\n",
        "plot.plot(test_losses, label='test')\n",
        "plot.legend()\n",
        "plot.show()"
      ],
      "metadata": {
        "colab": {
          "base_uri": "https://localhost:8080/",
          "height": 430
        },
        "id": "wJzNi02wytNk",
        "outputId": "1d201705-5912-4c67-a0c1-ffc27d7731d3"
      },
      "execution_count": 30,
      "outputs": [
        {
          "output_type": "display_data",
          "data": {
            "text/plain": [
              "<Figure size 640x480 with 1 Axes>"
            ],
            "image/png": "[encoded data removed]"
          },
          "metadata": {}
        }
      ]
    },
    {
      "cell_type": "code",
      "source": [
        "n_correct = 0.\n",
        "n_total = 0.\n",
        "for inputs, targets in train_loader:\n",
        "  inputs, targets = inputs.to(device).view(-1, 28, 28), targets.to(device)\n",
        "\n",
        "\n",
        "  outputs = model(inputs)\n",
        "  _, predictions = torch.max(outputs, 1)\n",
        "\n",
        "  n_correct += (predictions == targets).sum().item()\n",
        "  n_total += targets.shape[0]\n",
        "\n",
        "train_acc = n_correct / n_total\n",
        "\n",
        "for inputs, targets in test_loader:\n",
        "  inputs, targets = inputs.to(device).view(-1, 28, 28), targets.to(device)\n",
        "\n",
        "  outputs = model(inputs)\n",
        "  _, predictions = torch.max(outputs, 1)\n",
        "\n",
        "  n_correct += (predictions == targets).sum().item()\n",
        "  n_total += targets.shape[0]\n",
        "\n",
        "test_acc = n_correct / n_total\n",
        "\n",
        "print(f\"Train acc: {train_acc:.4f} Test acc: {test_acc:.4f}\")"
      ],
      "metadata": {
        "colab": {
          "base_uri": "https://localhost:8080/"
        },
        "id": "5K-6wY4j0sK_",
        "outputId": "dd8fae99-b978-4738-fe62-d38d05643a17"
      },
      "execution_count": 32,
      "outputs": [
        {
          "output_type": "stream",
          "name": "stdout",
          "text": [
            "Train acc: 0.9957 Test acc: 0.9946\n"
          ]
        }
      ]
    },
    {
      "cell_type": "code",
      "source": [
        "\n",
        "\n",
        "from sklearn.metrics import confusion_matrix\n",
        "import numpy as np\n",
        "import itertools\n",
        "\n",
        "def plot_confusion_matrix(cm, classes,\n",
        "                          normalize=False,\n",
        "                          title=\"COnfusion Matrix\",\n",
        "                          cmap=plot.cm.Blues\n",
        "                          ):\n",
        "  if normalize:\n",
        "    cm = cm.astype(\"float\") / cm.sum(axis=1)[:, np.newaxis]\n",
        "    print(\"Normalized\")\n",
        "  else:\n",
        "    print(\"Not Normalized\")\n",
        "  print(cm)\n",
        "\n",
        "  plot.imshow(cm, interpolation=\"nearest\", cmap=cmap)\n",
        "  plot.title(title)\n",
        "  tick_marks = np.arange(len(classes))\n",
        "  plot.xticks(tick_marks, classes, rotation=45)\n",
        "  plot.xticks(tick_marks, classes)\n",
        "\n",
        "  fmt = '.2f' if normalize else 'd'\n",
        "  thresh = cm.max() / 2.\n",
        "  for i, j in itertools.product(range(cm.shape[0]), range(cm.shape[1])):\n",
        "    plot.text(j, i, format(cm[i,j], fmt),\n",
        "             horizontalalignment=\"center\",\n",
        "             color=\"white\" if cm[i, j] > thresh else \"black\")\n",
        "\n",
        "  plot.tight_layout()\n",
        "  plot.ylabel(\"True Label\")\n",
        "  plot.xlabel(\"Predicted Label\")\n",
        "  plot.show()"
      ],
      "metadata": {
        "id": "LOPhQPMj1Jjo"
      },
      "execution_count": 33,
      "outputs": []
    },
    {
      "cell_type": "code",
      "source": [
        "x_test = test_data.data.numpy()\n",
        "y_test = test_data.targets.numpy()\n",
        "\n",
        "p_test = np.array([])\n",
        "\n",
        "for inputs, targets in test_loader:\n",
        "  inputs = inputs.to(device).view(-1, 28, 28)\n",
        "\n",
        "  outputs = model(inputs)\n",
        "\n",
        "  _, predictions = torch.max(outputs, 1)\n",
        "\n",
        "  p_test = np.concatenate((p_test, predictions.cpu().numpy()))\n",
        "\n",
        "cm = confusion_matrix(y_test, p_test)\n",
        "plot_confusion_matrix(cm, list(range(10)))"
      ],
      "metadata": {
        "colab": {
          "base_uri": "https://localhost:8080/",
          "height": 697
        },
        "id": "mxMG-aJM1tZ1",
        "outputId": "bf759bcf-2b95-42cc-fd43-91fbad96c79b"
      },
      "execution_count": 40,
      "outputs": [
        {
          "output_type": "stream",
          "name": "stdout",
          "text": [
            "Not Normalized\n",
            "[[ 970    0    0    2    0    1    6    0    0    1]\n",
            " [   0 1132    1    1    0    0    1    0    0    0]\n",
            " [   1    2 1021    2    2    0    1    2    1    0]\n",
            " [   0    0    2 1003    0    3    0    0    1    1]\n",
            " [   0    0    0    0  961    0    5    2    1   13]\n",
            " [   1    0    0    6    0  883    1    0    0    1]\n",
            " [   1    2    1    0    4    4  945    0    1    0]\n",
            " [   0    5    7    1    1    1    0 1005    2    6]\n",
            " [   0    0    1    2    0    3    4    1  963    0]\n",
            " [   0    0    0    0    7    0    0    2    2  998]]\n"
          ]
        },
        {
          "output_type": "display_data",
          "data": {
            "text/plain": [
              "<Figure size 640x480 with 1 Axes>"
            ],
            "image/png": "[encoded data removed]"
          },
          "metadata": {}
        }
      ]
    },
    {
      "cell_type": "code",
      "source": [
        "p_test = p_test.astype(np.uint8)\n",
        "misclassified_idx = np.where(p_test != y_test)[0]\n",
        "sample_idx = np.random.choice(misclassified_idx)\n",
        "\n",
        "plot.imshow(x_test[sample_idx])\n",
        "plot.title(f\"True label: {y_test[sample_idx]} Predicted: {p_test[sample_idx]}\")"
      ],
      "metadata": {
        "id": "ItMOcNV72I4W",
        "colab": {
          "base_uri": "https://localhost:8080/",
          "height": 469
        },
        "outputId": "146b7a64-dcb1-4a63-f49b-32393afaecc1"
      },
      "execution_count": 44,
      "outputs": [
        {
          "output_type": "execute_result",
          "data": {
            "text/plain": [
              "Text(0.5, 1.0, 'True label: 7 Predicted: 2')"
            ]
          },
          "metadata": {},
          "execution_count": 44
        },
        {
          "output_type": "display_data",
          "data": {
            "text/plain": [
              "<Figure size 640x480 with 1 Axes>"
            ],
            "image/png": "[encoded data removed]"
          },
          "metadata": {}
        }
      ]
    },
    {
      "cell_type": "code",
      "source": [],
      "metadata": {
        "id": "3CEVAznOJQx_"
      },
      "execution_count": null,
      "outputs": []
    }
  ]
}